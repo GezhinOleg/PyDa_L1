{
  "nbformat": 4,
  "nbformat_minor": 0,
  "metadata": {
    "colab": {
      "name": "PyDa_L1.ipynb",
      "provenance": [],
      "collapsed_sections": [],
      "authorship_tag": "ABX9TyNxJLLZUBd5CmBgu7yd4JkU",
      "include_colab_link": true
    },
    "kernelspec": {
      "name": "python3",
      "display_name": "Python 3"
    },
    "language_info": {
      "name": "python"
    }
  },
  "cells": [
    {
      "cell_type": "markdown",
      "metadata": {
        "id": "view-in-github",
        "colab_type": "text"
      },
      "source": [
        "<a href=\"https://colab.research.google.com/github/GezhinOleg/PyDa_L1/blob/main/PyDa_L1.ipynb\" target=\"_parent\"><img src=\"https://colab.research.google.com/assets/colab-badge.svg\" alt=\"Open In Colab\"/></a>"
      ]
    },
    {
      "cell_type": "code",
      "metadata": {
        "colab": {
          "base_uri": "https://localhost:8080/"
        },
        "id": "F3siIq3GJUdW",
        "outputId": "581f59ff-183b-4f50-d829-b564e1ec9f6a"
      },
      "source": [
        "'''\n",
        "Фразы для теста.\n",
        "Насколько проще было бы писать программы, если бы не заказчики\n",
        "640Кб должно хватить для любых задач. Билл Гейтс (по легенде)\n",
        "'''\n",
        "\n",
        "phrase_1 = input()\n",
        "phrase_2 = input()\n",
        "\n",
        "if phrase_1 > phrase_2:\n",
        "  print('Фраза 1 длиннее фразы 2')\n",
        "elif phrase_2 > phrase_1:\n",
        "  print('Фраза 2 длиннее фразы 1')\n",
        "else:\n",
        "  print('Фразы равной длины')"
      ],
      "execution_count": 2,
      "outputs": [
        {
          "output_type": "stream",
          "text": [
            "Насколько проще было бы писать программы, если бы не заказчики\n",
            "Насколько проще было бы писать программы, если бы не заказчики\n",
            "Фразы равной длины\n"
          ],
          "name": "stdout"
        }
      ]
    },
    {
      "cell_type": "code",
      "metadata": {
        "colab": {
          "base_uri": "https://localhost:8080/"
        },
        "id": "9BvmPJvQJlFD",
        "outputId": "7bbccbb7-3bd9-4398-ef69-d984fd1e5746"
      },
      "source": [
        "year = int(input())\n",
        "if year % 4 == 0 and year % 100 != 0 or year % 400 == 0:\n",
        "    print('Високосный год')\n",
        "else:\n",
        "    print('Обычный год')"
      ],
      "execution_count": 4,
      "outputs": [
        {
          "output_type": "stream",
          "text": [
            "2100\n",
            "Обычный год\n"
          ],
          "name": "stdout"
        }
      ]
    },
    {
      "cell_type": "code",
      "metadata": {
        "colab": {
          "base_uri": "https://localhost:8080/"
        },
        "id": "lnPE0tljRgeD",
        "outputId": "f07ea2a8-9bae-40c9-9c69-7e0937ca072e"
      },
      "source": [
        "#zodiac\n",
        "month_born = input('Введите название месяца: ')\n",
        "data_born = int(input('Введите дату рождения: '))\n",
        "if month_born == 'январь' and data_born <= 22 or month_born == 'декабрь' and data_born <= 31 and data_born >= 23:\n",
        "  print ('Ваш знак зодиака: козерог')\n",
        "\n",
        "elif month_born == 'февраль' and data_born <= 22 or month_born == 'январь' and data_born <= 31 and data_born >= 23:\n",
        "  print ('Ваш знак зодиака: водолей')\n",
        "\n",
        "elif month_born == 'март' and data_born <= 22 or month_born == 'февраль' and data_born <= 28 and data_born >= 23:\n",
        "  print ('Ваш знак зодиака: рыбы')\n",
        "\n",
        "elif month_born == 'апрель' and data_born <= 22 or month_born == 'март' and data_born <= 31 and data_born >= 23:\n",
        "  print ('Ваш знак зодиака: овен')\n",
        "\n",
        "elif month_born == 'май' and data_born <= 22 or month_born == 'апрель' and data_born <= 30 and data_born >= 23:\n",
        "  print ('Ваш знак зодиака: телец')\n",
        "\n",
        "elif month_born == 'июнь' and data_born <= 22 or month_born == 'май' and data_born <= 31 and data_born >= 23:\n",
        "  print ('Ваш знак зодиака: близнецы')\n",
        "\n",
        "elif month_born == 'июль' and data_born <= 22 or month_born == 'июнь' and data_born <= 30 and data_born >= 23:\n",
        "  print ('Ваш знак зодиака: рак')\n",
        "\n",
        "elif month_born == 'август' and data_born <= 22 or month_born == 'июль' and data_born <= 31 and data_born >= 23:\n",
        "  print ('Ваш знак зодиака: лев')\n",
        "\n",
        "elif month_born == 'сентябрь' and data_born <= 22 or month_born == 'август' and data_born <= 31 and data_born >= 23:\n",
        "  print ('Ваш знак зодиака: дева')\n",
        "\n",
        "elif month_born == 'октябрь' and data_born <= 22 or month_born == 'сентябрь' and data_born <= 30 and data_born >= 23:\n",
        "  print ('Ваш знак зодиака: весы')\n",
        "\n",
        "elif month_born == 'ноябрь' and data_born <= 22 or month_born == 'октябрь' and data_born <= 31 and data_born >= 23:\n",
        "  print ('скорпион')  \n",
        "\n",
        "elif month_born == 'декабрь' and data_born <= 22 or month_born == 'ноябрь' and data_born <= 30 and data_born >= 23:\n",
        "  print ('Ваш знак зодиака: стрелец')  \n",
        "\n",
        "else:\n",
        "  print('Вы что-то неправильно ввели, попробуйте ещё раз!')\n"
      ],
      "execution_count": 5,
      "outputs": [
        {
          "output_type": "stream",
          "text": [
            "Введите название месяца: апрель\n",
            "Введите дату рождения: 20\n",
            "овен\n"
          ],
          "name": "stdout"
        }
      ]
    },
    {
      "cell_type": "code",
      "metadata": {
        "colab": {
          "base_uri": "https://localhost:8080/"
        },
        "id": "ZywIiyZrSEpP",
        "outputId": "03bd7431-7782-4ef4-a576-3a054ac012c0"
      },
      "source": [
        "width = int(input('Введите значение ширины:'))\n",
        "length = int(input('Введите значение длины:'))\n",
        "height = int(input('Введите значение высоты:'))\n",
        "\n",
        "if width < 15 and length < 15 and height < 15:\n",
        "  print('Коробка №1')\n",
        "elif 15 <= width < 50 and 15 <= length < 50 and 15 <= height < 50:\n",
        "  print('Коробка №2')\n",
        "elif length > 200:\n",
        "  print('Упаковка для лыж')\n",
        "else:\n",
        "  print('Стандартная коробка №3')  "
      ],
      "execution_count": 6,
      "outputs": [
        {
          "output_type": "stream",
          "text": [
            "Введите значение ширины:20\n",
            "Введите значение длины:50\n",
            "Введите значение высоты:16\n",
            "Стандартная коробка №3\n"
          ],
          "name": "stdout"
        }
      ]
    },
    {
      "cell_type": "code",
      "metadata": {
        "colab": {
          "base_uri": "https://localhost:8080/"
        },
        "id": "HfIuA3X1XNhQ",
        "outputId": "dcbd158e-0192-4319-cd3e-731407e62141"
      },
      "source": [
        "number_tiket = int(input())\n",
        "num1 = number_tiket//100000+number_tiket//10000%10+number_tiket//1000%10\n",
        "num2 = number_tiket//100%10+number_tiket//10%10+number_tiket%10\n",
        "if num1 == num2:\n",
        "    print('Счастливый билет')\n",
        "else:\n",
        "    print('Несчастливый билет')"
      ],
      "execution_count": 7,
      "outputs": [
        {
          "output_type": "stream",
          "text": [
            "235523\n",
            "Счастливый билет\n"
          ],
          "name": "stdout"
        }
      ]
    },
    {
      "cell_type": "code",
      "metadata": {
        "colab": {
          "base_uri": "https://localhost:8080/"
        },
        "id": "JXEEieI-gFb3",
        "outputId": "125112f1-3d62-49fc-f74b-f73460200016"
      },
      "source": [
        "figure = input('Введите название фигуры, варианты - круг, прямоугольник, треугольник:')\n",
        "\n",
        "if figure == 'круг':\n",
        "    r = int(input('Введите радиус круга:'))\n",
        "    print('Площадь круга:', r**2*3.14)\n",
        "elif figure == 'треугольник':\n",
        "    a = float(input('Введите длину стороны A:'))\n",
        "    b = float(input('Введите длину стороны B:'))\n",
        "    c = float(input('Введите длину стороны C:'))\n",
        "    p = (a+b+c)/2\n",
        "    print('Площадь треугольника:',(p*(p-a)*(p-b)*(p-c))**0.5)\n",
        "elif figure == 'прямоугольник':\n",
        "    a = int(input('Введите длину стороны A:'))\n",
        "    b = int(input('Введите длину стороны B:'))\n",
        "    print('Площадь прямоугольника:',a*b)\n",
        "\n",
        "else:\n",
        "    print('Вы ввели неверное название фигуры, попробуйте ещё раз!')\n"
      ],
      "execution_count": 12,
      "outputs": [
        {
          "output_type": "stream",
          "text": [
            "Введите название фигуры, варианты - круг, прямоугольник, треугольник:треугольник\n",
            "Введите длину стороны A:15\n",
            "Введите длину стороны B:15\n",
            "Введите длину стороны C:15\n",
            "Площадь треугольника: 97.42785792574935\n"
          ],
          "name": "stdout"
        }
      ]
    },
    {
      "cell_type": "code",
      "metadata": {
        "id": "WxZEBslCa1Ih"
      },
      "source": [
        ""
      ],
      "execution_count": null,
      "outputs": []
    }
  ]
}